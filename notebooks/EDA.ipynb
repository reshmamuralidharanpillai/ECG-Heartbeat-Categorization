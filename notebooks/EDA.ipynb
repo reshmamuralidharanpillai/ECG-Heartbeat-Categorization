{
 "cells": [
  {
   "cell_type": "code",
   "execution_count": null,
   "metadata": {},
   "outputs": [],
   "source": [
    "import numpy as np\n",
    "import pandas as pd\n",
    "import matplotlib.pyplot as plt\n",
    "import seaborn as sns\n",
    "%matplotlib inline\n",
    "from sklearn.model_selection import train_test_split\n",
    "from sklearn.metrics import precision_score\n",
    "from sklearn.metrics import recall_score\n",
    "from sklearn.metrics import accuracy_score\n",
    "from sklearn.model_selection import StratifiedKFold\n",
    "from sklearn.utils import class_weight\n",
    "from sklearn.metrics import classification_report\n",
    "from utils import get_train_data,get_test_data,get_train_split,get_test_split\n",
    "import plotly.graph_objects as go\n",
    "from plotly.offline import iplot\n",
    "import random"
   ]
  },
  {
   "cell_type": "code",
   "execution_count": null,
   "metadata": {},
   "outputs": [],
   "source": [
    "ecg_train = get_train_data()\n",
    "ecg_test = get_test_data()"
   ]
  },
  {
   "cell_type": "code",
   "execution_count": null,
   "metadata": {},
   "outputs": [],
   "source": [
    "x,y =  get_train_split()\n",
    "X_test,y_test = get_test_split()"
   ]
  },
  {
   "cell_type": "code",
   "execution_count": null,
   "metadata": {},
   "outputs": [],
   "source": [
    "classes=ecg_train[187].value_counts()\n",
    "classes.describe()\n",
    "\n",
    "classes.plot(kind=\"bar\", title=\"Class Distribution\", color=['blue','orange','green','red','purple'])"
   ]
  },
  {
   "cell_type": "code",
   "execution_count": null,
   "metadata": {},
   "outputs": [],
   "source": [
    "grouped = ecg_train.groupby(187)\n",
    "\n",
    "# Calculate the statistical summary for each class\n",
    "class_stats = grouped.describe()\n",
    "\n",
    "# Print the statistical summary for each class\n",
    "for cls, stats in class_stats.groupby(level=0):\n",
    "    print(f\"Class: {cls}\")\n",
    "    print(stats)\n",
    "    print()"
   ]
  },
  {
   "cell_type": "code",
   "execution_count": null,
   "metadata": {},
   "outputs": [],
   "source": [
    "unique_classes = ecg_train[187].unique()\n",
    "\n",
    "for cls in unique_classes:\n",
    "    indices = ecg_train[ecg_train[187] == cls].index\n",
    "    index = random.choice(indices)\n",
    "    data = [go.Scatter(x=list(range(187)), y=x[index, :])]\n",
    "    layout = go.Layout(title=\"Heartbeat Class: %s\" % cls)\n",
    "    fig = go.Figure(data=data, layout=layout)\n",
    "    iplot(fig)"
   ]
  },
  {
   "cell_type": "code",
   "execution_count": null,
   "metadata": {},
   "outputs": [],
   "source": [
    "fig = plt.figure(figsize=(8,4))\n",
    "plt.plot(x[1,:], label=\"original\")\n",
    "plt.legend()"
   ]
  },
  {
   "cell_type": "code",
   "execution_count": null,
   "metadata": {},
   "outputs": [],
   "source": [
    "ecg_train.isna().sum()"
   ]
  }
 ],
 "metadata": {
  "kernelspec": {
   "display_name": "Python 3",
   "language": "python",
   "name": "python3"
  },
  "language_info": {
   "name": "python",
   "version": "3.11.2"
  },
  "orig_nbformat": 4,
  "vscode": {
   "interpreter": {
    "hash": "aee8b7b246df8f9039afb4144a1f6fd8d2ca17a180786b69acc140d282b71a49"
   }
  }
 },
 "nbformat": 4,
 "nbformat_minor": 2
}
