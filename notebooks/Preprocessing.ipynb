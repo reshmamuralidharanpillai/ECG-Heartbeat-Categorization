{
 "cells": [
  {
   "cell_type": "code",
   "execution_count": 4,
   "metadata": {},
   "outputs": [],
   "source": [
    "from collections import Counter\n",
    "from imblearn.over_sampling import SMOTE\n",
    "from sklearn.preprocessing import StandardScaler\n",
    "from sklearn.decomposition import PCA\n",
    "from utils import get_train_data,get_train_split,get_test_split,preprocess"
   ]
  },
  {
   "cell_type": "code",
   "execution_count": 5,
   "metadata": {},
   "outputs": [],
   "source": [
    "X_train,y_train =  get_train_split()\n",
    "X_test,y_test = get_test_split()"
   ]
  },
  {
   "cell_type": "code",
   "execution_count": 6,
   "metadata": {},
   "outputs": [
    {
     "name": "stdout",
     "output_type": "stream",
     "text": [
      "Counter({0.0: 72471, 4.0: 6431, 2.0: 5788, 1.0: 2223, 3.0: 641})\n",
      "Counter({0.0: 72471, 1.0: 72471, 2.0: 72471, 3.0: 72471, 4.0: 72471})\n",
      "The features have zero mean and unit variance.\n",
      "Explained variance ratio: [0.43728858 0.12009641 0.08049568 0.0458536  0.03805026 0.03279651\n",
      " 0.02452607 0.02208841 0.0174884  0.0157003  0.01392168 0.01198935\n",
      " 0.01016538 0.00894783 0.00811521 0.00748159 0.00691169 0.00643002\n",
      " 0.00590497 0.00540893 0.00487824 0.00435647 0.00424154 0.00373259\n",
      " 0.00355978 0.00342611 0.00321108 0.00298745]\n",
      "Principal components: [[-0.09062495 -0.07099837 -0.02511415 ...  0.00469049  0.0045475\n",
      "   0.0044395 ]\n",
      " [ 0.08287646  0.05844293  0.05910941 ...  0.02041791  0.01950321\n",
      "   0.01895141]\n",
      " [-0.08984626 -0.05911821 -0.12893894 ...  0.03675058  0.03531667\n",
      "   0.03467736]\n",
      " ...\n",
      " [-0.3371146  -0.02662292  0.3928573  ...  0.04845398  0.04568508\n",
      "   0.04376753]\n",
      " [-0.10989975  0.00885132  0.14229856 ... -0.03616061 -0.03556571\n",
      "  -0.03456049]\n",
      " [-0.01207892  0.03689104  0.0105193  ...  0.06115544  0.06000598\n",
      "   0.05863274]]\n",
      "Transformed data shape: (362355, 28)\n",
      "[0.43728858 0.55738499 0.63788067 0.68373427 0.72178453 0.75458104\n",
      " 0.77910711 0.80119551 0.81868391 0.83438421 0.84830589 0.86029524\n",
      " 0.87046062 0.87940845 0.88752365 0.89500524 0.90191693 0.90834695\n",
      " 0.91425191 0.91966084 0.92453908 0.92889555 0.93313709 0.93686968\n",
      " 0.94042946 0.94385558 0.94706665 0.9500541 ]\n"
     ]
    }
   ],
   "source": [
    "X_train_processed, y_train_processed, X_test_ = preprocess(X_train,y_train,X_test)"
   ]
  },
  {
   "cell_type": "code",
   "execution_count": 8,
   "metadata": {},
   "outputs": [
    {
     "data": {
      "text/plain": [
       "0      0\n",
       "1      0\n",
       "2      0\n",
       "3      0\n",
       "4      0\n",
       "      ..\n",
       "183    0\n",
       "184    0\n",
       "185    0\n",
       "186    0\n",
       "187    0\n",
       "Length: 188, dtype: int64"
      ]
     },
     "execution_count": 8,
     "metadata": {},
     "output_type": "execute_result"
    }
   ],
   "source": [
    "ecg_train = get_train_data()\n",
    "ecg_train.isna().sum()"
   ]
  }
 ],
 "metadata": {
  "kernelspec": {
   "display_name": "Python 3 (ipykernel)",
   "language": "python",
   "name": "python3"
  },
  "language_info": {
   "codemirror_mode": {
    "name": "ipython",
    "version": 3
   },
   "file_extension": ".py",
   "mimetype": "text/x-python",
   "name": "python",
   "nbconvert_exporter": "python",
   "pygments_lexer": "ipython3",
   "version": "3.9.7"
  },
  "vscode": {
   "interpreter": {
    "hash": "aee8b7b246df8f9039afb4144a1f6fd8d2ca17a180786b69acc140d282b71a49"
   }
  }
 },
 "nbformat": 4,
 "nbformat_minor": 2
}
